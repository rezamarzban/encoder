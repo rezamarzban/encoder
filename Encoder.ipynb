{
  "nbformat": 4,
  "nbformat_minor": 0,
  "metadata": {
    "colab": {
      "provenance": [],
      "authorship_tag": "ABX9TyMPPqSmKFY93+0wpdUpTy4p",
      "include_colab_link": true
    },
    "kernelspec": {
      "name": "python3",
      "display_name": "Python 3"
    },
    "language_info": {
      "name": "python"
    }
  },
  "cells": [
    {
      "cell_type": "markdown",
      "metadata": {
        "id": "view-in-github",
        "colab_type": "text"
      },
      "source": [
        "<a href=\"https://colab.research.google.com/github/rezamarzban/encoder/blob/main/Encoder.ipynb\" target=\"_parent\"><img src=\"https://colab.research.google.com/assets/colab-badge.svg\" alt=\"Open In Colab\"/></a>"
      ]
    },
    {
      "cell_type": "code",
      "execution_count": 1,
      "metadata": {
        "colab": {
          "base_uri": "https://localhost:8080/"
        },
        "id": "cQfPh_yN4fv7",
        "outputId": "5973510d-f14d-47cb-8ef0-33366c75ffda"
      },
      "outputs": [
        {
          "output_type": "stream",
          "name": "stdout",
          "text": [
            "Writing encoder.py\n"
          ]
        }
      ],
      "source": [
        "%%writefile encoder.py\n",
        "\n",
        "import hashlib\n",
        "\n",
        "def calculate_checksum(chunk):\n",
        "    return hashlib.sha256(chunk.encode()).hexdigest()\n",
        "\n",
        "def split_into_chunks(input_string, chunk_length):\n",
        "    chunks = []\n",
        "    for i in range(0, len(input_string), chunk_length):\n",
        "        chunk = input_string[i:i+chunk_length]\n",
        "        if len(chunk) < chunk_length:\n",
        "            chunk = chunk.ljust(chunk_length)\n",
        "        chunks.append(chunk)\n",
        "    return chunks\n",
        "\n",
        "# Example usage:\n",
        "input_string = \"Here is example string :)\"\n",
        "chunk_length = 3\n",
        "chunks = split_into_chunks(input_string, chunk_length)\n",
        "for chunk in chunks:\n",
        "    checksum = calculate_checksum(chunk)\n",
        "    print(checksum)"
      ]
    },
    {
      "cell_type": "code",
      "source": [
        "!python3 encoder.py > checksums.txt"
      ],
      "metadata": {
        "id": "EtORdvaG4q9r"
      },
      "execution_count": 2,
      "outputs": []
    },
    {
      "cell_type": "code",
      "source": [
        "\n",
        "import hashlib\n",
        "import itertools\n",
        "\n",
        "def calculate_checksum(string):\n",
        "    return hashlib.sha256(string.encode()).hexdigest()\n",
        "\n",
        "def generate_strings_with_checksum(target_checksum, characters, string_length):\n",
        "    for candidate in itertools.product(characters, repeat=string_length):\n",
        "        candidate_str = ''.join(candidate)\n",
        "        checksum = calculate_checksum(candidate_str)\n",
        "        if checksum == target_checksum:\n",
        "            return candidate_str\n",
        "    return None\n",
        "\n",
        "# Read target checksums from a text file\n",
        "results = []\n",
        "with open('checksums.txt', 'r') as file:\n",
        "    for line in file:\n",
        "        target_checksum = line.strip()\n",
        "        characters = 'abcdefghijklmnopqrstuvwxyzABCDEFGHIJKLMNOPQRSTUVWXYZ0123456789!@#$%^&*()-_+=[]{}|;:,.<>?/~`\" '\n",
        "        string_length = 3\n",
        "        string = generate_strings_with_checksum(target_checksum, characters, string_length)\n",
        "        if string is not None:\n",
        "            results.append(string)\n",
        "\n",
        "# Print the results in a single line without spaces\n",
        "print(\"\".join(results))"
      ],
      "metadata": {
        "colab": {
          "base_uri": "https://localhost:8080/"
        },
        "id": "xTJNQ7op4vcq",
        "outputId": "a7393c33-b518-49ae-d14a-46fafb2de305"
      },
      "execution_count": 3,
      "outputs": [
        {
          "output_type": "stream",
          "name": "stdout",
          "text": [
            "Here is example string :)  \n"
          ]
        }
      ]
    },
    {
      "cell_type": "code",
      "source": [
        "# Same as previous code, But with progress bar\n",
        "\n",
        "import hashlib\n",
        "import itertools\n",
        "from tqdm import tqdm\n",
        "\n",
        "def calculate_checksum(string):\n",
        "    return hashlib.sha256(string.encode()).hexdigest()\n",
        "\n",
        "def generate_strings_with_checksum(target_checksum, characters, string_length):\n",
        "    for candidate in itertools.product(characters, repeat=string_length):\n",
        "        candidate_str = ''.join(candidate)\n",
        "        checksum = calculate_checksum(candidate_str)\n",
        "        if checksum == target_checksum:\n",
        "            return candidate_str\n",
        "    return None\n",
        "\n",
        "# Read target checksums from a text file\n",
        "results = []\n",
        "with open('checksums.txt', 'r') as file:\n",
        "    lines = file.readlines()\n",
        "    for line in tqdm(lines, desc=\"Processing\"):\n",
        "        target_checksum = line.strip()\n",
        "        characters = 'abcdefghijklmnopqrstuvwxyzABCDEFGHIJKLMNOPQRSTUVWXYZ0123456789!@#$%^&*()-_+=[]{}|;:,.<>?/~`\" '\n",
        "        string_length = 3\n",
        "        string = generate_strings_with_checksum(target_checksum, characters, string_length)\n",
        "        if string is not None:\n",
        "            results.append(string)\n",
        "\n",
        "# Print the results in a single line without spaces\n",
        "print(\"\".join(results))"
      ],
      "metadata": {
        "colab": {
          "base_uri": "https://localhost:8080/"
        },
        "id": "65o88mtE40bp",
        "outputId": "66ded182-8572-4183-e506-01870306e24a"
      },
      "execution_count": 4,
      "outputs": [
        {
          "output_type": "stream",
          "name": "stderr",
          "text": [
            "Processing: 100%|██████████| 9/9 [00:03<00:00,  2.84it/s]"
          ]
        },
        {
          "output_type": "stream",
          "name": "stdout",
          "text": [
            "Here is example string :)  \n"
          ]
        },
        {
          "output_type": "stream",
          "name": "stderr",
          "text": [
            "\n"
          ]
        }
      ]
    }
  ]
}